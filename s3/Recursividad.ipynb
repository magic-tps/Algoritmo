{
  "nbformat": 4,
  "nbformat_minor": 0,
  "metadata": {
    "colab": {
      "name": "Recursividad",
      "provenance": [],
      "authorship_tag": "ABX9TyPIQDgWlGx6Wfkwrlb2E8Ea",
      "include_colab_link": true
    },
    "kernelspec": {
      "name": "python3",
      "display_name": "Python 3"
    },
    "language_info": {
      "name": "python"
    }
  },
  "cells": [
    {
      "cell_type": "markdown",
      "metadata": {
        "id": "view-in-github",
        "colab_type": "text"
      },
      "source": [
        "<a href=\"https://colab.research.google.com/github/magic-tps/Algoritmo/blob/main/s3/Recursividad.ipynb\" target=\"_parent\"><img src=\"https://colab.research.google.com/assets/colab-badge.svg\" alt=\"Open In Colab\"/></a>"
      ]
    },
    {
      "cell_type": "markdown",
      "metadata": {
        "id": "0HEMcl0EdQF6"
      },
      "source": [
        "Recursividad"
      ]
    },
    {
      "cell_type": "code",
      "metadata": {
        "colab": {
          "base_uri": "https://localhost:8080/"
        },
        "id": "ZDd7__hha_wp",
        "outputId": "4ea6a3ed-d6b1-4160-d6c3-5b45d8023627"
      },
      "source": [
        "%%writefile recursividad.cpp\n",
        "#include <iostream>\n",
        "\n",
        "using namespace std;\n",
        "\n",
        "template<class Carmen>\n",
        "void enumeracion(Carmen n){\n",
        "    if(n > 0){\n",
        "        cout << n << \" \";\n",
        "        enumeracion(n - 1);\n",
        "    }\n",
        "}\n",
        "\n",
        "template<class Carmen>\n",
        "void enumeracion2(Carmen n){\n",
        "    if(n > 0){\n",
        "        enumeracion2(n - 1);\n",
        "        cout << n << \" \";\n",
        "    }\n",
        "}\n",
        "\n",
        "///////////// Fibonacci\n",
        "int fibonacci(int n){\n",
        "    if(n <= 2){\n",
        "        return 1;\n",
        "    }else{\n",
        "        return fibonacci(n - 1) + fibonacci(n - 2);\n",
        "    }\n",
        "}\n",
        "void serie(int n){\n",
        "    if(n > 0){\n",
        "        serie(n - 1);\n",
        "        cout << fibonacci(n);\n",
        "    }\n",
        "}\n",
        "////////////////////////\n",
        "\n",
        "int factorial(int n){\n",
        "    if(n > 1){\n",
        "        return n * factorial(n - 1);\n",
        "    }\n",
        "} \n",
        "\n",
        "///////////////////\n",
        "\n",
        "void espacio(int n) {\n",
        "\tif (n == 1) {\n",
        "\t\tcout << \" \";\n",
        "\t}\n",
        "\telse {\n",
        "\t\tcout << \" \";\n",
        "\t\tespacio(n - 1);\n",
        "\t}\n",
        "}\n",
        "\n",
        "void fila(char n, int cantidad) {\n",
        "\tif (cantidad == 1) {\n",
        "\t\tcout << n;\n",
        "\t}\n",
        "\telse {\n",
        "\t\tcout << n << \" \";\n",
        "\t\tfila(n, cantidad -1);\n",
        "\t}\n",
        "}\n",
        "\n",
        "void columna(char n, int cantidad, int c) {\n",
        "\tif(cantidad != 0) {\n",
        "\t\t\n",
        "\t\tcolumna(n, cantidad - 1, c - 1);\n",
        "\t\t\n",
        "\t\tcout << endl;\n",
        "\t\tespacio(20 - c);\n",
        "\t\tfila(n, cantidad);\t\n",
        "\n",
        "\t}\n",
        "}\n",
        "int main(){\n",
        "    columna('*', 5, 10); \n",
        "    return 0;\n",
        "}"
      ],
      "execution_count": 35,
      "outputs": [
        {
          "output_type": "stream",
          "name": "stdout",
          "text": [
            "Overwriting recursividad.cpp\n"
          ]
        }
      ]
    },
    {
      "cell_type": "code",
      "metadata": {
        "colab": {
          "base_uri": "https://localhost:8080/"
        },
        "id": "OwYwG9qpfKQs",
        "outputId": "0ced91a4-3ccf-4708-dfa9-ceeaad74a405"
      },
      "source": [
        "!g++ recursividad.cpp && ./a.out"
      ],
      "execution_count": 36,
      "outputs": [
        {
          "output_type": "stream",
          "name": "stdout",
          "text": [
            "\n",
            "              *\n",
            "             * *\n",
            "            * * *\n",
            "           * * * *\n",
            "          * * * * *"
          ]
        }
      ]
    },
    {
      "cell_type": "code",
      "metadata": {
        "id": "3MRsRkFEfQiP"
      },
      "source": [
        ""
      ],
      "execution_count": 8,
      "outputs": []
    }
  ]
}