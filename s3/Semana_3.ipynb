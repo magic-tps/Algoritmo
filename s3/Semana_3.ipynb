{
  "nbformat": 4,
  "nbformat_minor": 0,
  "metadata": {
    "colab": {
      "name": "Semana 3",
      "provenance": [],
      "authorship_tag": "ABX9TyP1Z5rM4twf3W7wwOywIgpo",
      "include_colab_link": true
    },
    "kernelspec": {
      "name": "python3",
      "display_name": "Python 3"
    },
    "language_info": {
      "name": "python"
    }
  },
  "cells": [
    {
      "cell_type": "markdown",
      "metadata": {
        "id": "view-in-github",
        "colab_type": "text"
      },
      "source": [
        "<a href=\"https://colab.research.google.com/github/magic-tps/Algoritmo/blob/main/s3/Semana_3.ipynb\" target=\"_parent\"><img src=\"https://colab.research.google.com/assets/colab-badge.svg\" alt=\"Open In Colab\"/></a>"
      ]
    },
    {
      "cell_type": "markdown",
      "metadata": {
        "id": "QlKbglaxck4a"
      },
      "source": [
        "Temario:\n",
        "1. Archivos\n",
        "2. Lambdas"
      ]
    },
    {
      "cell_type": "code",
      "metadata": {
        "colab": {
          "base_uri": "https://localhost:8080/"
        },
        "id": "ZTA4KhNcciya",
        "outputId": "f25bf021-553e-483c-c5e4-6d69ed89512b"
      },
      "source": [
        "%%writefile archivos.cpp\n",
        "#include <iostream>  //buffer\n",
        "#include <fstream>   //disco\n",
        "#include <sstream>   //memoria\n",
        "#include <string>\n",
        "\n",
        "using namespace std;\n",
        "\n",
        "////////////Usando sin archivos\n",
        "/*\n",
        "int main(){\n",
        "    string frase;                   \n",
        "    cout << \"Ingrese frase: \";\n",
        "    getline(cin, frase);\n",
        "    cout << frase;\n",
        "    return 0;\n",
        "}\n",
        "*/\n",
        "\n",
        "void Ejemplo1(){\n",
        "       string frase;\n",
        "\n",
        "    //Escritura\n",
        "    fstream archE(\"frases.txt\", ios::out);\n",
        "    archE << \"Te amo CARMEN <3\";\n",
        "    archE.close();\n",
        "\n",
        "    //Lectura\n",
        "    fstream archL(\"frases.txt\", ios::in);\n",
        "    getline(archL, frase);\n",
        "    cout << frase;\n",
        "    archL.close();\n",
        "}\n",
        "\n",
        "void Ejemplo2(){\n",
        "    string frase;\n",
        "\n",
        "    //Escritura\n",
        "    ofstream archE(\"frases.txt\");\n",
        "    archE << \"Te amo CARMEN <3\";\n",
        "    archE.close();\n",
        "\n",
        "    //Lectura\n",
        "    ifstream archL(\"frases.txt\");\n",
        "    getline(archL, frase);\n",
        "    cout << frase;\n",
        "    archL.close();\n",
        "}\n",
        "\n",
        "///////////Usando archivos\n",
        "int main(){\n",
        "    Ejemplo2();\n",
        " \n",
        "    return 0;\n",
        "}\n",
        "\n",
        "\n"
      ],
      "execution_count": null,
      "outputs": [
        {
          "output_type": "stream",
          "name": "stdout",
          "text": [
            "Overwriting archivos.cpp\n"
          ]
        }
      ]
    },
    {
      "cell_type": "code",
      "metadata": {
        "colab": {
          "base_uri": "https://localhost:8080/"
        },
        "id": "lQ2yw5xpgm-O",
        "outputId": "78dbd457-4d83-4dd1-db70-1e65a68bc4c0"
      },
      "source": [
        "!g++ archivos.cpp && ./a.out"
      ],
      "execution_count": null,
      "outputs": [
        {
          "output_type": "stream",
          "name": "stdout",
          "text": [
            "Te amo CARMEN <3"
          ]
        }
      ]
    },
    {
      "cell_type": "code",
      "metadata": {
        "colab": {
          "base_uri": "https://localhost:8080/"
        },
        "id": "qMrLmemvgvUU",
        "outputId": "ed97b0e9-c154-4b32-da85-10ebeb51e237"
      },
      "source": [
        "%%writefile archivos2.cpp\n",
        "#include <iostream>\n",
        "#include <fstream>\n",
        "#include <sstream>\n",
        "#include <string>\n",
        "#include <cstdlib>\n",
        "#include <vector>\n",
        "\n",
        "using namespace std;\n",
        "\n",
        "struct Bono{\n",
        "    string nombre;\n",
        "    float edad;\n",
        "    char sexo;\n",
        "    float cantidad;\n",
        "    Bono(string n = \" \", float e = 0.0f, char s = 'M', float c = 0.0f): nombre(n), edad(e), sexo(s), cantidad(c){}\n",
        "};\n",
        "\n",
        "void escribeArchivo(){\n",
        "    ofstream archivo(\"Bonos.txt\");\n",
        "    //vector<Bono> bonos;\n",
        "\n",
        "    for(size_t i = 0; i < 10; ++i){\n",
        "        Bono b;\n",
        "        b.nombre=\"Tomas\";\n",
        "        b.edad = rand() % 50 + 18;\n",
        "        b.sexo = rand() % 2 == 0?'M' : 'F';\n",
        "        b.cantidad = rand() % 1000 + 1000;\n",
        "\n",
        "       // bonos.push_back(b);\n",
        "\n",
        "        archivo << b.nombre << \" , \" << b.edad << \" , \" << b.sexo << \" , \" << b.cantidad << endl;\n",
        "    }\n",
        "    archivo.close();\n",
        "}\n",
        "\n",
        "\n",
        "void leerArchivo(){\n",
        "    string linea, aux;\n",
        "    string nombre;\n",
        "    float monto;\n",
        "    char sexo;\n",
        "    float edad;\n",
        "\n",
        "    ifstream archivo(\"Bonos.txt\");\n",
        "    vector<Bono> bonos;\n",
        "\n",
        "    if(!archivo.fail()){\n",
        "        while(getline(archivo, linea)){\n",
        "            stringstream archMemoria(linea);\n",
        "            \n",
        "            getline(archMemoria, nombre, ',');\n",
        "            \n",
        "            getline(archMemoria, aux, ',');\n",
        "            edad = stod(aux);\n",
        "            \n",
        "            getline(archMemoria, aux, ',');\n",
        "            sexo = aux[1];\n",
        "            \n",
        "            getline(archMemoria, aux);\n",
        "            monto = stod(aux); //string to decimal\n",
        "          \n",
        "            cout << nombre << \" \" << edad << \" \" << sexo << \" \" << monto << endl;\n",
        "            bonos.push_back(Bono(nombre, edad, sexo, monto));\n",
        "        }\n",
        "\n",
        "    }\n",
        "    cout << bonos.size();\n",
        "    archivo.close();\n",
        "\n",
        "}\n",
        "\n",
        "int main(){\n",
        "    escribeArchivo();\n",
        "    leerArchivo();\n",
        "    return 0;\n",
        "}\n"
      ],
      "execution_count": null,
      "outputs": [
        {
          "output_type": "stream",
          "name": "stdout",
          "text": [
            "Overwriting archivos2.cpp\n"
          ]
        }
      ]
    },
    {
      "cell_type": "code",
      "metadata": {
        "colab": {
          "base_uri": "https://localhost:8080/"
        },
        "id": "iiFmwWXQ5iQ2",
        "outputId": "bb564e5f-1b4d-40be-d87c-908ab070ff02"
      },
      "source": [
        "!g++ archivos2.cpp && ./a.out"
      ],
      "execution_count": null,
      "outputs": [
        {
          "output_type": "stream",
          "name": "stdout",
          "text": [
            "Tomas  51 M 1777\n",
            "Tomas  33 F 1335\n",
            "Tomas  54 M 1649\n",
            "Tomas  39 M 1027\n",
            "Tomas  58 F 1763\n",
            "Tomas  44 M 1426\n",
            "Tomas  40 M 1211\n",
            "Tomas  36 F 1429\n",
            "Tomas  50 M 1862\n",
            "Tomas  41 F 1135\n",
            "10"
          ]
        }
      ]
    },
    {
      "cell_type": "code",
      "metadata": {
        "id": "PmOAVIZR5nnZ"
      },
      "source": [
        ""
      ],
      "execution_count": null,
      "outputs": []
    }
  ]
}