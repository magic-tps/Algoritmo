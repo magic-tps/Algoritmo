{
  "nbformat": 4,
  "nbformat_minor": 0,
  "metadata": {
    "colab": {
      "name": "Recursividad.2",
      "provenance": [],
      "authorship_tag": "ABX9TyOTN7nJ8STxDQ8G5GQ9zQVT",
      "include_colab_link": true
    },
    "kernelspec": {
      "name": "python3",
      "display_name": "Python 3"
    },
    "language_info": {
      "name": "python"
    }
  },
  "cells": [
    {
      "cell_type": "markdown",
      "metadata": {
        "id": "view-in-github",
        "colab_type": "text"
      },
      "source": [
        "<a href=\"https://colab.research.google.com/github/magic-tps/Algoritmo/blob/main/s3/Recursividad_2.ipynb\" target=\"_parent\"><img src=\"https://colab.research.google.com/assets/colab-badge.svg\" alt=\"Open In Colab\"/></a>"
      ]
    },
    {
      "cell_type": "markdown",
      "metadata": {
        "id": "pgDlSqkwz-eQ"
      },
      "source": [
        "Recursividad y Templates"
      ]
    },
    {
      "cell_type": "code",
      "metadata": {
        "colab": {
          "base_uri": "https://localhost:8080/"
        },
        "id": "nK2P6jUlz6kU",
        "outputId": "57bcf8d1-8b95-4185-af7e-62469053b5d9"
      },
      "source": [
        "%%writefile recursividad.cpp\n",
        "#include <iostream>\n",
        "\n",
        "using namespace std;\n",
        "\n",
        "\n",
        "template<class T>\n",
        "void enumeracion1(T n){\n",
        "    if(n > 0){\n",
        "        enumeracion1(n - 1);\n",
        "        cout << n << \" \";\n",
        "    }\n",
        "}\n",
        "\n",
        "template<class T>\n",
        "void enumeracion2(T n ){\n",
        "    if(n > 0){\n",
        "        cout << n << \" \";\n",
        "        enumeracion2(n- 1);\n",
        "    }\n",
        "}\n",
        "\n",
        "template<class T>\n",
        "T sumatoria(T n){\n",
        "    if(n > 0){\n",
        "        return n + sumatoria(n- 1);\n",
        "    }\n",
        "}\n",
        "\n",
        "template<class T>\n",
        "T factorial(T n){\n",
        "    if(n > 1){ \n",
        "        return n * factorial(n - 1);\n",
        "    }\n",
        "}\n",
        "\n",
        "void espacio(int n){\n",
        "    if(n > 0){\n",
        "        cout << \" \";\n",
        "        espacio(n - 1);\n",
        "    }\n",
        "}\n",
        "\n",
        "void fila(int n, char c){\n",
        "    if(n > 0){\n",
        "        cout << c << \" \";\n",
        "        fila(n- 1, c);\n",
        "    }\n",
        "}\n",
        "\n",
        "void columna(int n, char c){\n",
        "    if(n > 0){        \n",
        "        espacio(40 - n);\n",
        "        fila(n, c);\n",
        "        cout << endl;\n",
        "        columna(n- 1, c);\n",
        "    }\n",
        "}\n",
        "\n",
        "void columna2(int n, char c){\n",
        "    if(n > 0){        \n",
        "        columna2(n- 1, c);\n",
        "        espacio(40 - n);\n",
        "        fila(n, c);\n",
        "        cout << endl;\n",
        "        \n",
        "    }\n",
        "}\n",
        "\n",
        "int main(){\n",
        "    enumeracion1<int>(5);\n",
        "    cout << endl;\n",
        "    enumeracion2<int>(5);\n",
        "    cout << endl;\n",
        "    cout <<sumatoria<int>(3);\n",
        "    cout << endl;\n",
        "    cout <<  factorial<int>(5);\n",
        "    cout << endl;\n",
        "    columna2(5, '*');\n",
        "    columna(5, '*');\n",
        "    return 0;\n",
        "}"
      ],
      "execution_count": 94,
      "outputs": [
        {
          "output_type": "stream",
          "name": "stdout",
          "text": [
            "Overwriting recursividad.cpp\n"
          ]
        }
      ]
    },
    {
      "cell_type": "code",
      "metadata": {
        "colab": {
          "base_uri": "https://localhost:8080/"
        },
        "id": "Ok09dYt48d_N",
        "outputId": "51117dde-16bb-4d84-bd8c-2d0d259fde2e"
      },
      "source": [
        "!g++ recursividad.cpp && ./a.out"
      ],
      "execution_count": 95,
      "outputs": [
        {
          "output_type": "stream",
          "name": "stdout",
          "text": [
            "1 2 3 4 5 \n",
            "5 4 3 2 1 \n",
            "6\n",
            "120\n",
            "                                       * \n",
            "                                      * * \n",
            "                                     * * * \n",
            "                                    * * * * \n",
            "                                   * * * * * \n",
            "                                   * * * * * \n",
            "                                    * * * * \n",
            "                                     * * * \n",
            "                                      * * \n",
            "                                       * \n"
          ]
        }
      ]
    },
    {
      "cell_type": "code",
      "metadata": {
        "id": "t1m8FkFP8iWo"
      },
      "source": [
        ""
      ],
      "execution_count": 62,
      "outputs": []
    }
  ]
}