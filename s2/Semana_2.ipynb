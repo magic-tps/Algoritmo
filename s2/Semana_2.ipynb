{
  "nbformat": 4,
  "nbformat_minor": 0,
  "metadata": {
    "colab": {
      "name": "Semana 2",
      "provenance": [],
      "authorship_tag": "ABX9TyM+P7X31yHjXnKrh8lxzWJF",
      "include_colab_link": true
    },
    "kernelspec": {
      "name": "python3",
      "display_name": "Python 3"
    },
    "language_info": {
      "name": "python"
    }
  },
  "cells": [
    {
      "cell_type": "markdown",
      "metadata": {
        "id": "view-in-github",
        "colab_type": "text"
      },
      "source": [
        "<a href=\"https://colab.research.google.com/github/magic-tps/Algoritmo/blob/main/s2/Semana_2.ipynb\" target=\"_parent\"><img src=\"https://colab.research.google.com/assets/colab-badge.svg\" alt=\"Open In Colab\"/></a>"
      ]
    },
    {
      "cell_type": "markdown",
      "metadata": {
        "id": "cgGCMt-YAG1E"
      },
      "source": [
        "Primer Programa GoogleColab\n"
      ]
    },
    {
      "cell_type": "code",
      "metadata": {
        "colab": {
          "base_uri": "https://localhost:8080/"
        },
        "id": "oUOLbTvQ2Ex5",
        "outputId": "e996f0d4-1ea6-478f-ae10-0109ff8864ca"
      },
      "source": [
        "%%writefile p1.cpp\n",
        "#include <iostream>\n",
        "using namespace std;\n",
        "\n",
        "int main(){\n",
        "    cout << \"Hola a todos\";\n",
        "    return 0;\n",
        "}"
      ],
      "execution_count": 1,
      "outputs": [
        {
          "output_type": "stream",
          "name": "stdout",
          "text": [
            "Overwriting p1.cpp\n"
          ]
        }
      ]
    },
    {
      "cell_type": "code",
      "metadata": {
        "colab": {
          "base_uri": "https://localhost:8080/"
        },
        "id": "9qRo7Y8v7eFM",
        "outputId": "62dcb667-53dd-4782-9bf0-69afd086105d"
      },
      "source": [
        "!g++ p1.cpp && ./a.out"
      ],
      "execution_count": 2,
      "outputs": [
        {
          "output_type": "stream",
          "name": "stdout",
          "text": [
            "Hola a todos"
          ]
        }
      ]
    }
  ]
}