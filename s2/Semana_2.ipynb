{
  "nbformat": 4,
  "nbformat_minor": 0,
  "metadata": {
    "colab": {
      "name": "Semana 2",
      "provenance": [],
      "collapsed_sections": [],
      "authorship_tag": "ABX9TyOfOMH9eT4ABCoXkOgtA84d",
      "include_colab_link": true
    },
    "kernelspec": {
      "name": "python3",
      "display_name": "Python 3"
    },
    "language_info": {
      "name": "python"
    }
  },
  "cells": [
    {
      "cell_type": "markdown",
      "metadata": {
        "id": "view-in-github",
        "colab_type": "text"
      },
      "source": [
        "<a href=\"https://colab.research.google.com/github/magic-tps/Algoritmo/blob/main/s2/Semana_2.ipynb\" target=\"_parent\"><img src=\"https://colab.research.google.com/assets/colab-badge.svg\" alt=\"Open In Colab\"/></a>"
      ]
    },
    {
      "cell_type": "markdown",
      "metadata": {
        "id": "ogHispT6B42P"
      },
      "source": [
        "Semana 2\n",
        "1. Primer Programa\n",
        "2. Sobre carga de constructores\n",
        "3. Templates\n"
      ]
    },
    {
      "cell_type": "markdown",
      "metadata": {
        "id": "cgGCMt-YAG1E"
      },
      "source": [
        "Primer Programa GoogleColab\n"
      ]
    },
    {
      "cell_type": "code",
      "metadata": {
        "colab": {
          "base_uri": "https://localhost:8080/"
        },
        "id": "oUOLbTvQ2Ex5",
        "outputId": "e996f0d4-1ea6-478f-ae10-0109ff8864ca"
      },
      "source": [
        "%%writefile p1.cpp\n",
        "#include <iostream>\n",
        "using namespace std;\n",
        "\n",
        "int main(){\n",
        "    cout << \"Hola a todos\";\n",
        "    return 0;\n",
        "}"
      ],
      "execution_count": null,
      "outputs": [
        {
          "output_type": "stream",
          "name": "stdout",
          "text": [
            "Overwriting p1.cpp\n"
          ]
        }
      ]
    },
    {
      "cell_type": "code",
      "metadata": {
        "colab": {
          "base_uri": "https://localhost:8080/"
        },
        "id": "9qRo7Y8v7eFM",
        "outputId": "62dcb667-53dd-4782-9bf0-69afd086105d"
      },
      "source": [
        "!g++ p1.cpp && ./a.out"
      ],
      "execution_count": null,
      "outputs": [
        {
          "output_type": "stream",
          "name": "stdout",
          "text": [
            "Hola a todos"
          ]
        }
      ]
    },
    {
      "cell_type": "markdown",
      "metadata": {
        "id": "zjvzn4epB1gt"
      },
      "source": [
        "Sobrecarga de constructores\n"
      ]
    },
    {
      "cell_type": "code",
      "metadata": {
        "colab": {
          "base_uri": "https://localhost:8080/"
        },
        "id": "MRBAPKqzCAyn",
        "outputId": "3474cad4-a5ac-4add-dbc8-1760f454c183"
      },
      "source": [
        "%%writefile sobreCarga.cpp\n",
        "#include <iostream>\n",
        "using namespace std;\n",
        "\n",
        "class Operacion{\n",
        "    int n1;\n",
        "    int n2;\n",
        "\n",
        "    public:\n",
        "    \n",
        "    ////////////////////////////////////////////////////////////////////////////\n",
        "    //SobreCargando Constructores\n",
        "    Operacion(int n1 = 0, int n2 = 0) : n1(n1), n2(n2) {}\n",
        "    ////////////////////////////////////////////////////////////////////////////\n",
        "\n",
        "};\n",
        "\n",
        "int main(){\n",
        "   Operacion o1;\n",
        "   Operacion o2(10);\n",
        "   Operacion o3(20, 30);\n",
        "\n",
        "    \n",
        "    return 0;\n",
        "}\n",
        "\n"
      ],
      "execution_count": 27,
      "outputs": [
        {
          "output_type": "stream",
          "name": "stdout",
          "text": [
            "Overwriting sobreCarga.cpp\n"
          ]
        }
      ]
    },
    {
      "cell_type": "code",
      "metadata": {
        "id": "kegmyH68DoAb"
      },
      "source": [
        "!g++ sobreCarga.cpp && ./a.out"
      ],
      "execution_count": 28,
      "outputs": []
    },
    {
      "cell_type": "markdown",
      "metadata": {
        "id": "8NZgHWRRG40-"
      },
      "source": [
        "Templates"
      ]
    },
    {
      "cell_type": "code",
      "metadata": {
        "colab": {
          "base_uri": "https://localhost:8080/"
        },
        "id": "BYIh2TmjDrY8",
        "outputId": "0f0b2262-c687-4744-d7d5-f8ce1bdcfd55"
      },
      "source": [
        "%%writefile template.cpp\n",
        "#include <iostream>\n",
        "using namespace std;\n",
        "\n",
        "template<class Carmen>\n",
        "class Operacion{\n",
        "    Carmen n1;\n",
        "    Carmen n2;\n",
        "\n",
        "    public:\n",
        "    //SobreCargando Constructores\n",
        "    Operacion(Carmen n1 = 0, Carmen n2 = 0) : n1(n1), n2(n2) {}\n",
        "\n",
        "    Carmen sumar(){\n",
        "        return n1 + n2;\n",
        "    }\n",
        "};\n",
        "\n",
        "int main(){\n",
        "   Operacion<int> o1;\n",
        "   Operacion<int> o2(10);\n",
        "   Operacion<int> o3(20, 30);\n",
        "\n",
        "    cout << o1.sumar() << endl;\n",
        "    cout << o2.sumar() << endl;\n",
        "    cout << o3.sumar() << endl;\n",
        "    return 0;\n",
        "}\n",
        "\n"
      ],
      "execution_count": 29,
      "outputs": [
        {
          "output_type": "stream",
          "name": "stdout",
          "text": [
            "Overwriting template.cpp\n"
          ]
        }
      ]
    },
    {
      "cell_type": "code",
      "metadata": {
        "colab": {
          "base_uri": "https://localhost:8080/"
        },
        "id": "kwL23LJaHK2J",
        "outputId": "8f0d0e01-949f-456a-93a0-812ee07605c3"
      },
      "source": [
        "!g++ template.cpp && ./a.out"
      ],
      "execution_count": 30,
      "outputs": [
        {
          "output_type": "stream",
          "name": "stdout",
          "text": [
            "0\n",
            "10\n",
            "50\n"
          ]
        }
      ]
    },
    {
      "cell_type": "code",
      "metadata": {
        "id": "5ZMmkx93HM9y"
      },
      "source": [
        ""
      ],
      "execution_count": 30,
      "outputs": []
    }
  ]
}