{
  "nbformat": 4,
  "nbformat_minor": 0,
  "metadata": {
    "colab": {
      "name": "Repaso ",
      "provenance": [],
      "authorship_tag": "ABX9TyMlb0cyFZohBSJr6cPPenH0"
    },
    "kernelspec": {
      "name": "python3",
      "display_name": "Python 3"
    },
    "language_info": {
      "name": "python"
    }
  },
  "cells": [
    {
      "cell_type": "code",
      "metadata": {
        "colab": {
          "base_uri": "https://localhost:8080/"
        },
        "id": "itf_D0VBz3o0",
        "outputId": "e6136741-43dc-45c8-b7cb-47a2fc68d89b"
      },
      "source": [
        "%%writefile repaso.cpp\n",
        "#include <iostream>\n",
        "#include <string>\n",
        "#include <functional>\n",
        "using namespace std;\n",
        "\n",
        "class Lambda{\n",
        "    public:\n",
        "    Lambda(){}\n",
        "    void definir(){\n",
        "        string mensaje = \"UPC, exigete e innova\";\n",
        "        auto l1 = [](string s){\n",
        "            cout << \"Mensaje: \" << s << endl;\n",
        "            };\n",
        "        ejecuta(mensaje, l1);\n",
        "\n",
        "        auto l2 = [](string s){\n",
        "            int contador = 0;\n",
        "            for(size_t i = 0; i < s.length(); i++){\n",
        "                contador++;\n",
        "            }\n",
        "            cout << \"La cantidad de caracteres es: \" << contador << endl;\n",
        "        };\n",
        "        ejecuta(mensaje, l2);\n",
        "\n",
        "        auto l3 = [](string s){\n",
        "            int contador = 0;\n",
        "            for(size_t i = 0; i < s.length(); i++){\n",
        "                if(s[i] >= 65 && s[i] <= 90){\n",
        "                    contador++;\n",
        "                }\n",
        "            }\n",
        "            cout << \"La cantidad de mayusculas es: \" << contador << endl;\n",
        "        };\n",
        "        ejecuta(mensaje, l3);\n",
        "\n",
        "        auto l4 = [](string s){\n",
        "            int contador = 0;\n",
        "            for(size_t i = 0; i < s.length(); i++){\n",
        "                if(s[i] >= 97 && s[i] <= 122){\n",
        "                    contador++;\n",
        "                }\n",
        "            }\n",
        "            cout << \"La cantidad de minusculas es: \" <<  contador << endl;\n",
        "        };\n",
        "        ejecuta(mensaje, l4);\n",
        "    }  \n",
        "\n",
        "    void ejecuta(string s, function<void(string)> f){\n",
        "        f(s);\n",
        "    }\n",
        "};\n",
        "\n",
        "int main(){\n",
        "    Lambda l1;\n",
        "    l1.definir();\n",
        "    return 0;\n",
        "}"
      ],
      "execution_count": 38,
      "outputs": [
        {
          "output_type": "stream",
          "name": "stdout",
          "text": [
            "Overwriting repaso.cpp\n"
          ]
        }
      ]
    },
    {
      "cell_type": "code",
      "metadata": {
        "colab": {
          "base_uri": "https://localhost:8080/"
        },
        "id": "atb1fYOhUM4n",
        "outputId": "cfa99981-0a02-4454-9dca-8bfed27d6ad3"
      },
      "source": [
        "!g++ repaso.cpp && ./a.out"
      ],
      "execution_count": 39,
      "outputs": [
        {
          "output_type": "stream",
          "name": "stdout",
          "text": [
            "Mensaje: UPC, exigete e innova\n",
            "La cantidad de caracteres es: 21\n",
            "La cantidad de mayusculas es: 3\n",
            "La cantidad de minusculas es: 14\n"
          ]
        }
      ]
    },
    {
      "cell_type": "code",
      "metadata": {
        "id": "n6u6uNhdURsf",
        "colab": {
          "base_uri": "https://localhost:8080/"
        },
        "outputId": "4e6889b5-d87d-402f-bde8-e14ac734d173"
      },
      "source": [
        "%%writefile repaso1.cpp \n",
        "#include <iostream>\n",
        "#include <functional>\n",
        "#include <string>\n",
        "\n",
        "using namespace std;\n",
        "\n",
        "class Lambda{\n",
        "    public:\n",
        "    Lambda(){}\n",
        "    void ejecuta(string s, function<void(string)> f){\n",
        "        f(s);\n",
        "    }\n",
        "};\n",
        "int main(){\n",
        "    Lambda obLambda;\n",
        "    string mensaje = \"UPC, exigete e innova\";\n",
        "\n",
        "    auto l1 = [](string s){cout << \"Mensaje: \" << s << endl;};\n",
        "    obLambda.ejecuta(mensaje, l1);\n",
        "\n",
        "    auto l2 = [](string s){\n",
        "        int contador = 0;\n",
        "        for(size_t i = 0; i < s.length(); i++){\n",
        "            contador++;\n",
        "        }\n",
        "        cout << \"La cantidad de caracteres es: \" << contador << endl;\n",
        "    };\n",
        "    obLambda.ejecuta(mensaje, l2);\n",
        "\n",
        "    auto l3 = [](string s){\n",
        "        int contador = 0;\n",
        "        for(size_t i = 0; i < s.length(); i++){\n",
        "            if(s[i] >= 65 && s[i] <= 90){\n",
        "                    contador++;\n",
        "            }\n",
        "        }\n",
        "        cout << \"La cantidad de letras mayusculas es: \" << contador << endl;\n",
        "    };\n",
        "    obLambda.ejecuta(mensaje, l3);\n",
        "\n",
        "    auto l4 = [](string s){\n",
        "        int contador = 0;\n",
        "        for(size_t i = 0; i < s.length(); i++){\n",
        "            if(s[i] >= 97 && s[i] <= 122){\n",
        "                contador++;\n",
        "            }\n",
        "        }\n",
        "        cout << \"La cantidad de letras minusculas es: \" << contador <<  endl;\n",
        "    };\n",
        "    obLambda.ejecuta(mensaje, l4);\n",
        "}"
      ],
      "execution_count": 40,
      "outputs": [
        {
          "output_type": "stream",
          "name": "stdout",
          "text": [
            "Overwriting repaso1.cpp\n"
          ]
        }
      ]
    },
    {
      "cell_type": "code",
      "metadata": {
        "colab": {
          "base_uri": "https://localhost:8080/"
        },
        "id": "RM0svF4gI6_q",
        "outputId": "fd7080f1-d25d-4391-86a5-16282153987c"
      },
      "source": [
        "!g++ repaso1.cpp && ./a.out"
      ],
      "execution_count": 41,
      "outputs": [
        {
          "output_type": "stream",
          "name": "stdout",
          "text": [
            "Mensaje: UPC, exigete e innova\n",
            "La cantidad de caracteres es: 21\n",
            "La cantidad de letras mayusculas es: 3\n",
            "La cantidad de letras minusculas es: 14\n"
          ]
        }
      ]
    },
    {
      "cell_type": "code",
      "metadata": {
        "colab": {
          "base_uri": "https://localhost:8080/"
        },
        "id": "yAvG8OAEI_F5",
        "outputId": "28ea12d4-2579-40ff-85cb-4e2683b7c477"
      },
      "source": [
        "%%writefile repaso3.cpp\n",
        "#include <iostream>\n",
        "#include <string>\n",
        "#include <functional>\n",
        "\n",
        "using namespace std;\n",
        "\n",
        "class Lambda{\n",
        "    public:\n",
        "    Lambda(){}\n",
        "    void ejecuta(string s, function<void(string s)> f){\n",
        "        f(s);\n",
        "    }\n",
        "};\n",
        "\n",
        "class Controlador{\n",
        "    private:\n",
        "    string mensaje;\n",
        "    Lambda *obLambda1;\n",
        "    Lambda *obLambda2;\n",
        "    Lambda *obLambda3;\n",
        "    Lambda *obLambda4;\n",
        "\n",
        "    public:\n",
        "    Controlador(){\n",
        "        mensaje = \"UPC, exigete e innova\";\n",
        "        obLambda1 = new Lambda();\n",
        "        obLambda2 = new Lambda();\n",
        "        obLambda3 = new Lambda();\n",
        "    }\n",
        "\n",
        "    void funcion1(){\n",
        "        auto l1 = [](string s){\n",
        "            cout << \"Mensaje: \" << s << endl;\n",
        "        };\n",
        "        obLambda1->ejecuta(mensaje, l1);\n",
        "    }\n",
        "\n",
        "    void funcion2(){\n",
        "        auto l2 = [](string s){\n",
        "            int contador = 0;\n",
        "            for(size_t i = 0; i < s.length(); i++){\n",
        "                contador++;\n",
        "            }\n",
        "            cout << \"La cantidad de caracteres es: \" << contador << endl;\n",
        "        };\n",
        "        obLambda2->ejecuta(mensaje, l2);\n",
        "    }\n",
        "\n",
        "    void funcion3(){\n",
        "        auto l3 = [](string s){\n",
        "            int contador = 0;\n",
        "            for(size_t i = 0; i < s.length(); i++){\n",
        "                if(s[i] >= 65 && s[i] <= 90){\n",
        "                    contador++;\n",
        "                }\n",
        "            }\n",
        "            cout << \"La cantidad de mayusculas es: \" << contador << endl;\n",
        "        };\n",
        "        obLambda3->ejecuta(mensaje, l3);\n",
        "    }\n",
        "\n",
        "    void funcion4(){\n",
        "        auto l4 = [](string s){\n",
        "            int contador = 0;\n",
        "            for(size_t i = 0; i < s.length(); i++){\n",
        "                if(s[i] >= 97 && s[i] <= 122){\n",
        "                    contador++;\n",
        "                }\n",
        "            }\n",
        "            cout << \"La cantidad de minusculas es: \" << contador << endl;\n",
        "        };\n",
        "        obLambda4->ejecuta(mensaje, l4);\n",
        "    }\n",
        "};\n",
        "\n",
        "int main(){\n",
        "    Controlador c;\n",
        "    c.funcion1();\n",
        "    c.funcion2();\n",
        "    c.funcion3();\n",
        "    c.funcion4();\n",
        "    return 0;\n",
        "}"
      ],
      "execution_count": 46,
      "outputs": [
        {
          "output_type": "stream",
          "name": "stdout",
          "text": [
            "Overwriting repaso3.cpp\n"
          ]
        }
      ]
    },
    {
      "cell_type": "code",
      "metadata": {
        "colab": {
          "base_uri": "https://localhost:8080/"
        },
        "id": "_Z6HsZvMRTzP",
        "outputId": "7981c261-6f72-429e-9249-97e1c48ed6db"
      },
      "source": [
        "!g++ repaso3.cpp && ./a.out"
      ],
      "execution_count": 47,
      "outputs": [
        {
          "output_type": "stream",
          "name": "stdout",
          "text": [
            "Mensaje: UPC, exigete e innova\n",
            "La cantidad de caracteres es: 21\n",
            "La cantidad de mayusculas es: 3\n",
            "La cantidad de minusculas es: 14\n"
          ]
        }
      ]
    },
    {
      "cell_type": "code",
      "metadata": {
        "colab": {
          "base_uri": "https://localhost:8080/"
        },
        "id": "IXNTWe2uRaMi",
        "outputId": "0173d3b8-3fd7-453e-af5d-a69bb34c4d2b"
      },
      "source": [
        "%%writefile repaso4.cpp\n",
        "#include <iostream>\n",
        "#include <string>\n",
        "#include <functional>\n",
        "\n",
        "using namespace std;\n",
        "\n",
        "template <class T>\n",
        "class Lambda{\n",
        "    private:\n",
        "    T s;\n",
        "    function<void(T)> f; //funcion con atributo de clase \n",
        "\n",
        "    public:\n",
        "    Lambda(T s, function<void(T)> f){\n",
        "        this->s = s;\n",
        "        this->f = f;\n",
        "    }\n",
        "\n",
        "    void ejecuta(){\n",
        "        f(s);\n",
        "    }\n",
        "};\n",
        "\n",
        "class Controlador{\n",
        "    private:\n",
        "    string mensaje;\n",
        "    Lambda<string> *obLambda1; \n",
        "    Lambda<string> *obLambda2; \n",
        "    Lambda<string> *obLambda3; \n",
        "    Lambda<string> *obLambda4;  \n",
        "\n",
        "    public:\n",
        "    Controlador(){\n",
        "        mensaje = \"UPC, exigete e innova\";\n",
        "    }\n",
        "\n",
        "    void funcion1(){\n",
        "        auto l1 = [](string s) {\n",
        "            cout << \"Mensaje: \" << s << endl;\n",
        "        };\n",
        "        obLambda1 = new Lambda<string>(mensaje, l1);\n",
        "        obLambda1->ejecuta();\n",
        "    }\n",
        "\n",
        "    void funcion2(){\n",
        "        auto l2 = [](string s){\n",
        "            int contador = 0;\n",
        "            for(size_t i = 0; i < s.length(); i++){\n",
        "                contador++;\n",
        "            }\n",
        "            cout << \"Cantidad de caracteres es: \" << contador << endl;\n",
        "        };\n",
        "        obLambda2 = new Lambda<string>(mensaje, l2);\n",
        "        obLambda2->ejecuta();\n",
        "    }\n",
        "\n",
        "    void funcion3(){\n",
        "        auto l3 = [](string s){\n",
        "            int contador = 0;\n",
        "            for(size_t i = 0; i < s.length(); i++){\n",
        "                if(s[i] >= 65 && s[i] <= 90){\n",
        "                    contador++;\n",
        "                }\n",
        "            }\n",
        "            cout << \"Cantidad de letras mayuscula es: \" << contador << endl;\n",
        "        };\n",
        "        obLambda3 = new Lambda<string>(mensaje, l3);\n",
        "        obLambda3->ejecuta();\n",
        "    }\n",
        "\n",
        "    void funcion4(){\n",
        "        auto l4 = [](string s){\n",
        "            int contador = 0;\n",
        "            for(size_t i = 0; i < s.length(); i++){\n",
        "                if(s[i] >= 97 && s[i] <= 122){\n",
        "                    contador++;\n",
        "                }\n",
        "            }\n",
        "            cout << \"Cantidad de letras minusculas es: \" << contador << endl;\n",
        "        };\n",
        "        obLambda4 = new Lambda<string>(mensaje, l4);\n",
        "        obLambda4->ejecuta();\n",
        "    }\n",
        "};\n",
        "\n",
        "int main(){\n",
        "    Controlador c;\n",
        "    c.funcion1();\n",
        "    c.funcion2();\n",
        "    c.funcion3();\n",
        "    c.funcion4();\n",
        "\n",
        "    return 0;\n",
        "}"
      ],
      "execution_count": 50,
      "outputs": [
        {
          "output_type": "stream",
          "name": "stdout",
          "text": [
            "Overwriting repaso4.cpp\n"
          ]
        }
      ]
    },
    {
      "cell_type": "code",
      "metadata": {
        "colab": {
          "base_uri": "https://localhost:8080/"
        },
        "id": "KK-vU2UghK3N",
        "outputId": "38862bd1-1bcb-4054-f1b1-2d07ea84e896"
      },
      "source": [
        "!g++ repaso4.cpp && ./a.out"
      ],
      "execution_count": 51,
      "outputs": [
        {
          "output_type": "stream",
          "name": "stdout",
          "text": [
            "Mensaje: UPC, exigete e innova\n",
            "Cantidad de caracteres es: 21\n",
            "Cantidad de letras mayuscula es: 3\n",
            "Cantidad de letras minusculas es: 14\n"
          ]
        }
      ]
    },
    {
      "cell_type": "code",
      "metadata": {
        "id": "CWBTMyh4hOhp"
      },
      "source": [
        ""
      ],
      "execution_count": null,
      "outputs": []
    }
  ]
}